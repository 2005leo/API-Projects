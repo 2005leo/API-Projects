{
  "nbformat": 4,
  "nbformat_minor": 0,
  "metadata": {
    "colab": {
      "provenance": [],
      "authorship_tag": "ABX9TyNKpj/OWu3u+MHhrWIY/iOL",
      "include_colab_link": true
    },
    "kernelspec": {
      "name": "python3",
      "display_name": "Python 3"
    },
    "language_info": {
      "name": "python"
    }
  },
  "cells": [
    {
      "cell_type": "markdown",
      "metadata": {
        "id": "view-in-github",
        "colab_type": "text"
      },
      "source": [
        "<a href=\"https://colab.research.google.com/github/2005leo/API-Projects/blob/main/actividad_pr%C3%A1ctica_APIS_Nombre_Apellido.ipynb\" target=\"_parent\"><img src=\"https://colab.research.google.com/assets/colab-badge.svg\" alt=\"Open In Colab\"/></a>"
      ]
    },
    {
      "cell_type": "code",
      "source": [
        "# Actividad Práctica: Descarga de Datos desde APIs Públicas\n",
        "# Nombre: Leonardo A.\n",
        "# Apellido: Agüero"
      ],
      "metadata": {
        "id": "K2axATshGj63"
      },
      "execution_count": 2,
      "outputs": []
    },
    {
      "cell_type": "code",
      "source": [
        "# Paso 1: Importación de librerías"
      ],
      "metadata": {
        "id": "EgPjYNCcG-6v"
      },
      "execution_count": 3,
      "outputs": []
    },
    {
      "cell_type": "code",
      "execution_count": 1,
      "metadata": {
        "id": "NL4FA6bUGCFD"
      },
      "outputs": [],
      "source": [
        "import requests\n",
        "import pandas as pd"
      ]
    },
    {
      "cell_type": "code",
      "source": [
        "# Paso 2: Configuración de la API y la URL de la API"
      ],
      "metadata": {
        "id": "TP5q2NgNHKQ4"
      },
      "execution_count": 4,
      "outputs": []
    },
    {
      "cell_type": "code",
      "source": [
        "# Mi APIKEY  de NewsAPI\n",
        "API_KEY = '78f764c3054a4780b38c559d32532193'\n",
        "BASE_URL = 'https://newsapi.org/v2/top-headlines'\n",
        "\n",
        "# Parámetros de la solicitud (ejemplo: noticias sobre Tecnología en EEUU)\n",
        "params = {\n",
        "    'country': 'us',  # País (EEUU)\n",
        "    'category': 'technology',  # Categoría (Tecnología)\n",
        "    'apiKey': API_KEY\n",
        "}"
      ],
      "metadata": {
        "id": "cKKJ3hFuHlDE"
      },
      "execution_count": 38,
      "outputs": []
    },
    {
      "cell_type": "code",
      "source": [
        "# Paso 3: Solicitud a la API\n",
        "response = requests.get(BASE_URL, params=params)\n"
      ],
      "metadata": {
        "id": "yNMhAOa3I1t5"
      },
      "execution_count": 39,
      "outputs": []
    },
    {
      "cell_type": "code",
      "source": [
        "# Paso 4: Verificar si la solicitud fue exitosa\n",
        "if response.status_code == 200:\n",
        "    data = response.json()  # Convertir la respuesta a formato JSON\n",
        "    print(\"Datos obtenidos correctamente.\")\n",
        "else:\n",
        "    print(f\"Error al obtener los datos. Código de estado: {response.status_code}\")"
      ],
      "metadata": {
        "colab": {
          "base_uri": "https://localhost:8080/"
        },
        "id": "rmY17DwsJx-o",
        "outputId": "eb973e3b-6589-4791-8fc1-741edcbe3353"
      },
      "execution_count": 40,
      "outputs": [
        {
          "output_type": "stream",
          "name": "stdout",
          "text": [
            "Datos obtenidos correctamente.\n"
          ]
        }
      ]
    },
    {
      "cell_type": "code",
      "source": [
        "# Paso 5:Mostrar las claves principales del JSON\n",
        "print(data.keys())\n",
        "\n",
        "# Mostrar información sobre los artículos\n",
        "articles = data['articles']\n",
        "print(f\"Total de artículos encontrados: {len(articles)}\")"
      ],
      "metadata": {
        "colab": {
          "base_uri": "https://localhost:8080/"
        },
        "id": "TqxOQBjlKmV-",
        "outputId": "aa657cb8-5e15-48ea-9326-d30c1c011a31"
      },
      "execution_count": 41,
      "outputs": [
        {
          "output_type": "stream",
          "name": "stdout",
          "text": [
            "dict_keys(['status', 'totalResults', 'articles'])\n",
            "Total de artículos encontrados: 19\n"
          ]
        }
      ]
    },
    {
      "cell_type": "code",
      "source": [
        "# Paso 6: Extraer información relevante de cada artículo\n",
        "article_list = []\n",
        "for article in articles:\n",
        "    article_info = {\n",
        "        'title': article['title'],\n",
        "        'author': article['author'],\n",
        "        'source': article['source']['name'],\n",
        "        'published_at': article['publishedAt'],\n",
        "        'description': article['description'],\n",
        "        'url': article['url']\n",
        "    }\n",
        "    article_list.append(article_info)\n",
        "\n",
        "# Crear un DataFrame de pandas\n",
        "df = pd.DataFrame(article_list)\n",
        "\n",
        "# Mostrar las primeras filas del DataFrame\n",
        "df.head()"
      ],
      "metadata": {
        "colab": {
          "base_uri": "https://localhost:8080/",
          "height": 293
        },
        "id": "HPnN3XTAL1J0",
        "outputId": "2320b5c9-c45a-481c-c7d9-038977047049"
      },
      "execution_count": 42,
      "outputs": [
        {
          "output_type": "execute_result",
          "data": {
            "text/plain": [
              "                                               title           author  \\\n",
              "0  AI haters build tarpits to trap and trick AI s...  Ashley Belanger   \n",
              "1  The next driver you cut off on the freeway may...   Peter Wilgoren   \n",
              "2  Pokémon TCG Pocket’s next expansion is leaking...       Ian Walker   \n",
              "3  Nvidia Issues RTX 5090 and 5080 Stock Shortage...      Sayem Ahmed   \n",
              "4  New Apple CPU side-channel attacks steals data...      Bill Toulas   \n",
              "\n",
              "             source          published_at  \\\n",
              "0      Ars Technica  2025-01-28T21:16:31Z   \n",
              "1  KTLA Los Angeles  2025-01-28T19:59:59Z   \n",
              "2           Polygon  2025-01-28T19:25:51Z   \n",
              "3               IGN  2025-01-28T18:30:48Z   \n",
              "4  BleepingComputer  2025-01-28T18:00:00Z   \n",
              "\n",
              "                                         description  \\\n",
              "0  Attackers explain how an anti-spam defense bec...   \n",
              "1  LOS ANGELES (KTLA) – Los Angeles freeways can ...   \n",
              "2  Pokémon TCG Pocket cards like Weavile ex, Pory...   \n",
              "3  Nvidia has issued an RTX 5090 and 5080 stock s...   \n",
              "4  A team of security researchers has disclosed n...   \n",
              "\n",
              "                                                 url  \n",
              "0  https://arstechnica.com/tech-policy/2025/01/ai...  \n",
              "1  https://ktla.com/news/local-news/the-next-driv...  \n",
              "2  https://www.polygon.com/news/515271/pokemon-tc...  \n",
              "3  https://www.ign.com/articles/nvidia-issues-rtx...  \n",
              "4  https://www.bleepingcomputer.com/news/security...  "
            ],
            "text/html": [
              "\n",
              "  <div id=\"df-f074bce3-f422-43ad-8cb9-9b3e9307479b\" class=\"colab-df-container\">\n",
              "    <div>\n",
              "<style scoped>\n",
              "    .dataframe tbody tr th:only-of-type {\n",
              "        vertical-align: middle;\n",
              "    }\n",
              "\n",
              "    .dataframe tbody tr th {\n",
              "        vertical-align: top;\n",
              "    }\n",
              "\n",
              "    .dataframe thead th {\n",
              "        text-align: right;\n",
              "    }\n",
              "</style>\n",
              "<table border=\"1\" class=\"dataframe\">\n",
              "  <thead>\n",
              "    <tr style=\"text-align: right;\">\n",
              "      <th></th>\n",
              "      <th>title</th>\n",
              "      <th>author</th>\n",
              "      <th>source</th>\n",
              "      <th>published_at</th>\n",
              "      <th>description</th>\n",
              "      <th>url</th>\n",
              "    </tr>\n",
              "  </thead>\n",
              "  <tbody>\n",
              "    <tr>\n",
              "      <th>0</th>\n",
              "      <td>AI haters build tarpits to trap and trick AI s...</td>\n",
              "      <td>Ashley Belanger</td>\n",
              "      <td>Ars Technica</td>\n",
              "      <td>2025-01-28T21:16:31Z</td>\n",
              "      <td>Attackers explain how an anti-spam defense bec...</td>\n",
              "      <td>https://arstechnica.com/tech-policy/2025/01/ai...</td>\n",
              "    </tr>\n",
              "    <tr>\n",
              "      <th>1</th>\n",
              "      <td>The next driver you cut off on the freeway may...</td>\n",
              "      <td>Peter Wilgoren</td>\n",
              "      <td>KTLA Los Angeles</td>\n",
              "      <td>2025-01-28T19:59:59Z</td>\n",
              "      <td>LOS ANGELES (KTLA) – Los Angeles freeways can ...</td>\n",
              "      <td>https://ktla.com/news/local-news/the-next-driv...</td>\n",
              "    </tr>\n",
              "    <tr>\n",
              "      <th>2</th>\n",
              "      <td>Pokémon TCG Pocket’s next expansion is leaking...</td>\n",
              "      <td>Ian Walker</td>\n",
              "      <td>Polygon</td>\n",
              "      <td>2025-01-28T19:25:51Z</td>\n",
              "      <td>Pokémon TCG Pocket cards like Weavile ex, Pory...</td>\n",
              "      <td>https://www.polygon.com/news/515271/pokemon-tc...</td>\n",
              "    </tr>\n",
              "    <tr>\n",
              "      <th>3</th>\n",
              "      <td>Nvidia Issues RTX 5090 and 5080 Stock Shortage...</td>\n",
              "      <td>Sayem Ahmed</td>\n",
              "      <td>IGN</td>\n",
              "      <td>2025-01-28T18:30:48Z</td>\n",
              "      <td>Nvidia has issued an RTX 5090 and 5080 stock s...</td>\n",
              "      <td>https://www.ign.com/articles/nvidia-issues-rtx...</td>\n",
              "    </tr>\n",
              "    <tr>\n",
              "      <th>4</th>\n",
              "      <td>New Apple CPU side-channel attacks steals data...</td>\n",
              "      <td>Bill Toulas</td>\n",
              "      <td>BleepingComputer</td>\n",
              "      <td>2025-01-28T18:00:00Z</td>\n",
              "      <td>A team of security researchers has disclosed n...</td>\n",
              "      <td>https://www.bleepingcomputer.com/news/security...</td>\n",
              "    </tr>\n",
              "  </tbody>\n",
              "</table>\n",
              "</div>\n",
              "    <div class=\"colab-df-buttons\">\n",
              "\n",
              "  <div class=\"colab-df-container\">\n",
              "    <button class=\"colab-df-convert\" onclick=\"convertToInteractive('df-f074bce3-f422-43ad-8cb9-9b3e9307479b')\"\n",
              "            title=\"Convert this dataframe to an interactive table.\"\n",
              "            style=\"display:none;\">\n",
              "\n",
              "  <svg xmlns=\"http://www.w3.org/2000/svg\" height=\"24px\" viewBox=\"0 -960 960 960\">\n",
              "    <path d=\"M120-120v-720h720v720H120Zm60-500h600v-160H180v160Zm220 220h160v-160H400v160Zm0 220h160v-160H400v160ZM180-400h160v-160H180v160Zm440 0h160v-160H620v160ZM180-180h160v-160H180v160Zm440 0h160v-160H620v160Z\"/>\n",
              "  </svg>\n",
              "    </button>\n",
              "\n",
              "  <style>\n",
              "    .colab-df-container {\n",
              "      display:flex;\n",
              "      gap: 12px;\n",
              "    }\n",
              "\n",
              "    .colab-df-convert {\n",
              "      background-color: #E8F0FE;\n",
              "      border: none;\n",
              "      border-radius: 50%;\n",
              "      cursor: pointer;\n",
              "      display: none;\n",
              "      fill: #1967D2;\n",
              "      height: 32px;\n",
              "      padding: 0 0 0 0;\n",
              "      width: 32px;\n",
              "    }\n",
              "\n",
              "    .colab-df-convert:hover {\n",
              "      background-color: #E2EBFA;\n",
              "      box-shadow: 0px 1px 2px rgba(60, 64, 67, 0.3), 0px 1px 3px 1px rgba(60, 64, 67, 0.15);\n",
              "      fill: #174EA6;\n",
              "    }\n",
              "\n",
              "    .colab-df-buttons div {\n",
              "      margin-bottom: 4px;\n",
              "    }\n",
              "\n",
              "    [theme=dark] .colab-df-convert {\n",
              "      background-color: #3B4455;\n",
              "      fill: #D2E3FC;\n",
              "    }\n",
              "\n",
              "    [theme=dark] .colab-df-convert:hover {\n",
              "      background-color: #434B5C;\n",
              "      box-shadow: 0px 1px 3px 1px rgba(0, 0, 0, 0.15);\n",
              "      filter: drop-shadow(0px 1px 2px rgba(0, 0, 0, 0.3));\n",
              "      fill: #FFFFFF;\n",
              "    }\n",
              "  </style>\n",
              "\n",
              "    <script>\n",
              "      const buttonEl =\n",
              "        document.querySelector('#df-f074bce3-f422-43ad-8cb9-9b3e9307479b button.colab-df-convert');\n",
              "      buttonEl.style.display =\n",
              "        google.colab.kernel.accessAllowed ? 'block' : 'none';\n",
              "\n",
              "      async function convertToInteractive(key) {\n",
              "        const element = document.querySelector('#df-f074bce3-f422-43ad-8cb9-9b3e9307479b');\n",
              "        const dataTable =\n",
              "          await google.colab.kernel.invokeFunction('convertToInteractive',\n",
              "                                                    [key], {});\n",
              "        if (!dataTable) return;\n",
              "\n",
              "        const docLinkHtml = 'Like what you see? Visit the ' +\n",
              "          '<a target=\"_blank\" href=https://colab.research.google.com/notebooks/data_table.ipynb>data table notebook</a>'\n",
              "          + ' to learn more about interactive tables.';\n",
              "        element.innerHTML = '';\n",
              "        dataTable['output_type'] = 'display_data';\n",
              "        await google.colab.output.renderOutput(dataTable, element);\n",
              "        const docLink = document.createElement('div');\n",
              "        docLink.innerHTML = docLinkHtml;\n",
              "        element.appendChild(docLink);\n",
              "      }\n",
              "    </script>\n",
              "  </div>\n",
              "\n",
              "\n",
              "<div id=\"df-0ea1effa-5633-43c1-b4e9-8fc68a045331\">\n",
              "  <button class=\"colab-df-quickchart\" onclick=\"quickchart('df-0ea1effa-5633-43c1-b4e9-8fc68a045331')\"\n",
              "            title=\"Suggest charts\"\n",
              "            style=\"display:none;\">\n",
              "\n",
              "<svg xmlns=\"http://www.w3.org/2000/svg\" height=\"24px\"viewBox=\"0 0 24 24\"\n",
              "     width=\"24px\">\n",
              "    <g>\n",
              "        <path d=\"M19 3H5c-1.1 0-2 .9-2 2v14c0 1.1.9 2 2 2h14c1.1 0 2-.9 2-2V5c0-1.1-.9-2-2-2zM9 17H7v-7h2v7zm4 0h-2V7h2v10zm4 0h-2v-4h2v4z\"/>\n",
              "    </g>\n",
              "</svg>\n",
              "  </button>\n",
              "\n",
              "<style>\n",
              "  .colab-df-quickchart {\n",
              "      --bg-color: #E8F0FE;\n",
              "      --fill-color: #1967D2;\n",
              "      --hover-bg-color: #E2EBFA;\n",
              "      --hover-fill-color: #174EA6;\n",
              "      --disabled-fill-color: #AAA;\n",
              "      --disabled-bg-color: #DDD;\n",
              "  }\n",
              "\n",
              "  [theme=dark] .colab-df-quickchart {\n",
              "      --bg-color: #3B4455;\n",
              "      --fill-color: #D2E3FC;\n",
              "      --hover-bg-color: #434B5C;\n",
              "      --hover-fill-color: #FFFFFF;\n",
              "      --disabled-bg-color: #3B4455;\n",
              "      --disabled-fill-color: #666;\n",
              "  }\n",
              "\n",
              "  .colab-df-quickchart {\n",
              "    background-color: var(--bg-color);\n",
              "    border: none;\n",
              "    border-radius: 50%;\n",
              "    cursor: pointer;\n",
              "    display: none;\n",
              "    fill: var(--fill-color);\n",
              "    height: 32px;\n",
              "    padding: 0;\n",
              "    width: 32px;\n",
              "  }\n",
              "\n",
              "  .colab-df-quickchart:hover {\n",
              "    background-color: var(--hover-bg-color);\n",
              "    box-shadow: 0 1px 2px rgba(60, 64, 67, 0.3), 0 1px 3px 1px rgba(60, 64, 67, 0.15);\n",
              "    fill: var(--button-hover-fill-color);\n",
              "  }\n",
              "\n",
              "  .colab-df-quickchart-complete:disabled,\n",
              "  .colab-df-quickchart-complete:disabled:hover {\n",
              "    background-color: var(--disabled-bg-color);\n",
              "    fill: var(--disabled-fill-color);\n",
              "    box-shadow: none;\n",
              "  }\n",
              "\n",
              "  .colab-df-spinner {\n",
              "    border: 2px solid var(--fill-color);\n",
              "    border-color: transparent;\n",
              "    border-bottom-color: var(--fill-color);\n",
              "    animation:\n",
              "      spin 1s steps(1) infinite;\n",
              "  }\n",
              "\n",
              "  @keyframes spin {\n",
              "    0% {\n",
              "      border-color: transparent;\n",
              "      border-bottom-color: var(--fill-color);\n",
              "      border-left-color: var(--fill-color);\n",
              "    }\n",
              "    20% {\n",
              "      border-color: transparent;\n",
              "      border-left-color: var(--fill-color);\n",
              "      border-top-color: var(--fill-color);\n",
              "    }\n",
              "    30% {\n",
              "      border-color: transparent;\n",
              "      border-left-color: var(--fill-color);\n",
              "      border-top-color: var(--fill-color);\n",
              "      border-right-color: var(--fill-color);\n",
              "    }\n",
              "    40% {\n",
              "      border-color: transparent;\n",
              "      border-right-color: var(--fill-color);\n",
              "      border-top-color: var(--fill-color);\n",
              "    }\n",
              "    60% {\n",
              "      border-color: transparent;\n",
              "      border-right-color: var(--fill-color);\n",
              "    }\n",
              "    80% {\n",
              "      border-color: transparent;\n",
              "      border-right-color: var(--fill-color);\n",
              "      border-bottom-color: var(--fill-color);\n",
              "    }\n",
              "    90% {\n",
              "      border-color: transparent;\n",
              "      border-bottom-color: var(--fill-color);\n",
              "    }\n",
              "  }\n",
              "</style>\n",
              "\n",
              "  <script>\n",
              "    async function quickchart(key) {\n",
              "      const quickchartButtonEl =\n",
              "        document.querySelector('#' + key + ' button');\n",
              "      quickchartButtonEl.disabled = true;  // To prevent multiple clicks.\n",
              "      quickchartButtonEl.classList.add('colab-df-spinner');\n",
              "      try {\n",
              "        const charts = await google.colab.kernel.invokeFunction(\n",
              "            'suggestCharts', [key], {});\n",
              "      } catch (error) {\n",
              "        console.error('Error during call to suggestCharts:', error);\n",
              "      }\n",
              "      quickchartButtonEl.classList.remove('colab-df-spinner');\n",
              "      quickchartButtonEl.classList.add('colab-df-quickchart-complete');\n",
              "    }\n",
              "    (() => {\n",
              "      let quickchartButtonEl =\n",
              "        document.querySelector('#df-0ea1effa-5633-43c1-b4e9-8fc68a045331 button');\n",
              "      quickchartButtonEl.style.display =\n",
              "        google.colab.kernel.accessAllowed ? 'block' : 'none';\n",
              "    })();\n",
              "  </script>\n",
              "</div>\n",
              "\n",
              "    </div>\n",
              "  </div>\n"
            ],
            "application/vnd.google.colaboratory.intrinsic+json": {
              "type": "dataframe",
              "variable_name": "df",
              "summary": "{\n  \"name\": \"df\",\n  \"rows\": 19,\n  \"fields\": [\n    {\n      \"column\": \"title\",\n      \"properties\": {\n        \"dtype\": \"string\",\n        \"num_unique_values\": 19,\n        \"samples\": [\n          \"AI haters build tarpits to trap and trick AI scrapers that ignore robots.txt - Ars Technica\",\n          \"Google Play will now verify VPNs that prioritize privacy and safety - The Verge\",\n          \"Apple fixes zero-day flaw affecting all devices - TechCrunch\"\n        ],\n        \"semantic_type\": \"\",\n        \"description\": \"\"\n      }\n    },\n    {\n      \"column\": \"author\",\n      \"properties\": {\n        \"dtype\": \"string\",\n        \"num_unique_values\": 15,\n        \"samples\": [\n          \"Psyonix Team\",\n          \"Mitchel Broussard\",\n          \"Ashley Belanger\"\n        ],\n        \"semantic_type\": \"\",\n        \"description\": \"\"\n      }\n    },\n    {\n      \"column\": \"source\",\n      \"properties\": {\n        \"dtype\": \"string\",\n        \"num_unique_values\": 16,\n        \"samples\": [\n          \"Ars Technica\",\n          \"KTLA Los Angeles\",\n          \"The Verge\"\n        ],\n        \"semantic_type\": \"\",\n        \"description\": \"\"\n      }\n    },\n    {\n      \"column\": \"published_at\",\n      \"properties\": {\n        \"dtype\": \"object\",\n        \"num_unique_values\": 18,\n        \"samples\": [\n          \"2025-01-28T21:16:31Z\",\n          \"2025-01-28T19:59:59Z\",\n          \"2025-01-28T16:54:08Z\"\n        ],\n        \"semantic_type\": \"\",\n        \"description\": \"\"\n      }\n    },\n    {\n      \"column\": \"description\",\n      \"properties\": {\n        \"dtype\": \"string\",\n        \"num_unique_values\": 18,\n        \"samples\": [\n          \"Attackers explain how an anti-spam defense became an AI weapon.\",\n          \"LOS ANGELES (KTLA) \\u2013 Los Angeles freeways can be a white-knuckle ride for even the most fearless drivers. But as you navigate the endless traffic, tight turns, and unforgiving merges, get ready to see something new: a driverless car alongside you.\\u00a0 Waymo, one\\u2026\",\n          \"The first footage of Project Moohan and Android XR show that Google and Samsung seem to borrow heavily from the Vision Pro\\u2019s visionOS.\"\n        ],\n        \"semantic_type\": \"\",\n        \"description\": \"\"\n      }\n    },\n    {\n      \"column\": \"url\",\n      \"properties\": {\n        \"dtype\": \"string\",\n        \"num_unique_values\": 19,\n        \"samples\": [\n          \"https://arstechnica.com/tech-policy/2025/01/ai-haters-build-tarpits-to-trap-and-trick-ai-scrapers-that-ignore-robots-txt/\",\n          \"https://www.theverge.com/news/599214/google-play-vpn-verification-badges\",\n          \"https://techcrunch.com/2025/01/28/apple-fixes-zero-day-flaw-affecting-all-devices/\"\n        ],\n        \"semantic_type\": \"\",\n        \"description\": \"\"\n      }\n    }\n  ]\n}"
            }
          },
          "metadata": {},
          "execution_count": 42
        }
      ]
    },
    {
      "cell_type": "code",
      "source": [
        "# Paso 7: Información básica del DataFrame\n",
        "print(df.info())\n",
        "\n",
        "# Resumen estadístico (solo columnas numéricas, si existen)\n",
        "print(df.describe())\n",
        "\n",
        "# Contar el número de autores únicos\n",
        "unique_authors = df['author'].nunique()\n",
        "print(f\"Número de autores únicos: {unique_authors}\")\n",
        "\n",
        "# Contar el número de fuentes únicas\n",
        "unique_sources = df['source'].nunique()\n",
        "print(f\"Número de fuentes únicas: {unique_sources}\")"
      ],
      "metadata": {
        "colab": {
          "base_uri": "https://localhost:8080/"
        },
        "id": "zyfb4BDjMR5R",
        "outputId": "985e55c5-bac7-4265-bec5-17f3d0b84eb1"
      },
      "execution_count": 43,
      "outputs": [
        {
          "output_type": "stream",
          "name": "stdout",
          "text": [
            "<class 'pandas.core.frame.DataFrame'>\n",
            "RangeIndex: 19 entries, 0 to 18\n",
            "Data columns (total 6 columns):\n",
            " #   Column        Non-Null Count  Dtype \n",
            "---  ------        --------------  ----- \n",
            " 0   title         19 non-null     object\n",
            " 1   author        15 non-null     object\n",
            " 2   source        19 non-null     object\n",
            " 3   published_at  19 non-null     object\n",
            " 4   description   18 non-null     object\n",
            " 5   url           19 non-null     object\n",
            "dtypes: object(6)\n",
            "memory usage: 1.0+ KB\n",
            "None\n",
            "                                                    title           author  \\\n",
            "count                                                  19               15   \n",
            "unique                                                 19               15   \n",
            "top     AI haters build tarpits to trap and trick AI s...  Ashley Belanger   \n",
            "freq                                                    1                1   \n",
            "\n",
            "       source          published_at  \\\n",
            "count      19                    19   \n",
            "unique     16                    18   \n",
            "top       IGN  2025-01-28T18:00:00Z   \n",
            "freq        3                     2   \n",
            "\n",
            "                                              description  \\\n",
            "count                                                  18   \n",
            "unique                                                 18   \n",
            "top     Attackers explain how an anti-spam defense bec...   \n",
            "freq                                                    1   \n",
            "\n",
            "                                                      url  \n",
            "count                                                  19  \n",
            "unique                                                 19  \n",
            "top     https://arstechnica.com/tech-policy/2025/01/ai...  \n",
            "freq                                                    1  \n",
            "Número de autores únicos: 15\n",
            "Número de fuentes únicas: 16\n"
          ]
        }
      ]
    },
    {
      "cell_type": "code",
      "source": [
        "# Guardar el DataFrame en un archivo CSV\n",
        "df.to_csv('noticias_tecnologia.csv', index=False)\n",
        "print(\"Datos guardados en 'noticias_tecnologia.csv'\")"
      ],
      "metadata": {
        "colab": {
          "base_uri": "https://localhost:8080/"
        },
        "id": "Q7D7UmiAM-KX",
        "outputId": "010500a4-ebd5-4b44-b38a-ff63768bdf19"
      },
      "execution_count": 44,
      "outputs": [
        {
          "output_type": "stream",
          "name": "stdout",
          "text": [
            "Datos guardados en 'noticias_tecnologia.csv'\n"
          ]
        }
      ]
    }
  ]
}